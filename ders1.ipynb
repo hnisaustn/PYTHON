{
  "nbformat": 4,
  "nbformat_minor": 0,
  "metadata": {
    "colab": {
      "provenance": []
    },
    "kernelspec": {
      "name": "python3",
      "display_name": "Python 3"
    },
    "language_info": {
      "name": "python"
    }
  },
  "cells": [
    {
      "cell_type": "markdown",
      "source": [
        "PYTHON|DERS1\n",
        " 19.08.2024"
      ],
      "metadata": {
        "id": "wX2dPk0r7IYh"
      }
    },
    {
      "cell_type": "code",
      "execution_count": 6,
      "metadata": {
        "colab": {
          "base_uri": "https://localhost:8080/"
        },
        "id": "bLCQKn262s06",
        "outputId": "9baaea9d-1585-4a57-f18b-d4115685ce94"
      },
      "outputs": [
        {
          "output_type": "stream",
          "name": "stdout",
          "text": [
            "Merhaba, İGU - İSTKA / Ders1\n"
          ]
        }
      ],
      "source": [
        "print(\"Merhaba, İGU - İSTKA / Ders1\") #print ekranaçıktı veren bi koddur."
      ]
    },
    {
      "cell_type": "code",
      "source": [
        "import sys # import python programlama dilinde yazılıma kütüphane eklemeye yarayan yarar.\n",
        "print(sys.version)"
      ],
      "metadata": {
        "colab": {
          "base_uri": "https://localhost:8080/"
        },
        "id": "OUkRBG-I6AuR",
        "outputId": "bd3199b0-fd3f-44e3-8527-614188a1f0a0"
      },
      "execution_count": 2,
      "outputs": [
        {
          "output_type": "stream",
          "name": "stdout",
          "text": [
            "3.10.12 (main, Jul 29 2024, 16:56:48) [GCC 11.4.0]\n"
          ]
        }
      ]
    },
    {
      "cell_type": "code",
      "source": [
        "from google.colab import drive # google colab - drive bağlantısı\n",
        "drive.mount('/content/drive') # bütün drive izinleri kabul edilmelidir yoksa çalışmaz."
      ],
      "metadata": {
        "colab": {
          "base_uri": "https://localhost:8080/"
        },
        "id": "t8GHom6y7sSg",
        "outputId": "2290af17-c711-4dd5-e9d6-1c809f6cf0fa"
      },
      "execution_count": 3,
      "outputs": [
        {
          "output_type": "stream",
          "name": "stdout",
          "text": [
            "Mounted at /content/drive\n"
          ]
        }
      ]
    },
    {
      "cell_type": "code",
      "source": [
        "import os\n",
        "os.chdir('/content/drive/My Drive/veriyapilari_istka')\n",
        "!pwd #bize kodun çıktısını dosya yolu olarak veren kod blogudur."
      ],
      "metadata": {
        "colab": {
          "base_uri": "https://localhost:8080/"
        },
        "id": "4RhSQVDH87DP",
        "outputId": "8e93729a-4de6-44ee-97fe-70d1d099f652"
      },
      "execution_count": 4,
      "outputs": [
        {
          "output_type": "stream",
          "name": "stdout",
          "text": [
            "/content/drive/My Drive/veriyapilari_istka\n"
          ]
        }
      ]
    },
    {
      "cell_type": "markdown",
      "source": [
        "Aşağıdaki kod bize kodun çıktısını dosya yolu olarak veren kod bloğudur. Python'da Jupyter Notebook veya IPython gibi etkileşimli ortamlar kullanıyorsanız, komut satıı komutlarını çalıştırmak için! İşareti kullanabilirsiniz. Bu durumda, Ipwd komutu çalışma dizinini göstermek için kullanılır."
      ],
      "metadata": {
        "id": "u9CzqsJY_nWg"
      }
    }
  ]
}