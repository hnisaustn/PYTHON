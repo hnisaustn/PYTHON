{
  "nbformat": 4,
  "nbformat_minor": 0,
  "metadata": {
    "colab": {
      "provenance": []
    },
    "kernelspec": {
      "name": "python3",
      "display_name": "Python 3"
    },
    "language_info": {
      "name": "python"
    }
  },
  "cells": [
    {
      "cell_type": "markdown",
      "source": [
        "PYTHON|DERS1\n",
        " 19.08.2024"
      ],
      "metadata": {
        "id": "wX2dPk0r7IYh"
      }
    },
    {
      "cell_type": "code",
      "execution_count": 2,
      "metadata": {
        "colab": {
          "base_uri": "https://localhost:8080/"
        },
        "id": "bLCQKn262s06",
        "outputId": "fa19c616-0edb-4488-eeab-da11a4b229af"
      },
      "outputs": [
        {
          "output_type": "stream",
          "name": "stdout",
          "text": [
            "merhaba, İGU- İSTKA /ders1\n"
          ]
        }
      ],
      "source": [
        "print(\"merhaba, İGU- İSTKA /ders1\") #print ekranaçıktı veren bi koddur."
      ]
    },
    {
      "cell_type": "code",
      "source": [
        "import sys # import python programlama dilinde yazılıma kütüphane eklemeye yarayan yarar.\n",
        "print(sys.version)"
      ],
      "metadata": {
        "colab": {
          "base_uri": "https://localhost:8080/"
        },
        "id": "OUkRBG-I6AuR",
        "outputId": "fd6e077b-003c-48ae-deb0-b2582ac0a164"
      },
      "execution_count": 3,
      "outputs": [
        {
          "output_type": "stream",
          "name": "stdout",
          "text": [
            "3.10.12 (main, Jul 29 2024, 16:56:48) [GCC 11.4.0]\n"
          ]
        }
      ]
    },
    {
      "cell_type": "code",
      "source": [
        "from google.colab import drive # google colab - drive bağlantısı\n",
        "drive.mount('/content/drive') # bütün drive izinleri kabul edilmelidir yoksa çalışmaz."
      ],
      "metadata": {
        "colab": {
          "base_uri": "https://localhost:8080/"
        },
        "id": "t8GHom6y7sSg",
        "outputId": "b6617ac1-a4f8-49dd-fde1-aa481cd7ca49"
      },
      "execution_count": 1,
      "outputs": [
        {
          "output_type": "stream",
          "name": "stdout",
          "text": [
            "Mounted at /content/drive\n"
          ]
        }
      ]
    },
    {
      "cell_type": "code",
      "source": [
        "import os\n",
        "os.chdir('/content/drive/My Drive/veriyapilari_istka')\n",
        "!pwd #bize kodun çıktısını dosya yolu olarak veren kod blogudur."
      ],
      "metadata": {
        "colab": {
          "base_uri": "https://localhost:8080/"
        },
        "id": "4RhSQVDH87DP",
        "outputId": "10797e9e-a0dc-4d72-9731-8eb24f2332d7"
      },
      "execution_count": 4,
      "outputs": [
        {
          "output_type": "stream",
          "name": "stdout",
          "text": [
            "/content/drive/My Drive/veriyapilari_istka\n"
          ]
        }
      ]
    },
    {
      "cell_type": "markdown",
      "source": [
        "Aşağıdaki kod bize kodun çıktısını dosya yolu olarak veren kod bloğudur. Python'da Jupyter Notebook veya IPython gibi etkileşimli ortamlar kullanıyorsanız, komut satıı komutlarını çalıştırmak için! İşareti kullanabilirsiniz. Bu durumda, Ipwd komutu çalışma dizinini göstermek için kullanılır."
      ],
      "metadata": {
        "id": "u9CzqsJY_nWg"
      }
    }
  ]
}