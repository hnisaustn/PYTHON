{
  "nbformat": 4,
  "nbformat_minor": 0,
  "metadata": {
    "colab": {
      "provenance": []
    },
    "kernelspec": {
      "name": "python3",
      "display_name": "Python 3"
    },
    "language_info": {
      "name": "python"
    }
  },
  "cells": [
    {
      "cell_type": "markdown",
      "source": [
        "PYTHON|DERS2\n",
        "20.08.2024"
      ],
      "metadata": {
        "id": "1v0ar-JmqgZX"
      }
    },
    {
      "cell_type": "code",
      "source": [
        "print(\"Merhaba, İGU - İSTKA / Ders2\") #print ekranaçıktı veren bi koddur."
      ],
      "metadata": {
        "colab": {
          "base_uri": "https://localhost:8080/"
        },
        "id": "bCCnl7W2pvzc",
        "outputId": "7a4b59bd-aec5-4405-9311-ca1352dbc07d"
      },
      "execution_count": 12,
      "outputs": [
        {
          "output_type": "stream",
          "name": "stdout",
          "text": [
            "Merhaba, İGU - İSTKA / Ders2\n"
          ]
        }
      ]
    },
    {
      "cell_type": "code",
      "source": [
        "import sys # import python programlama dilinde yazılıma kütüphane eklemeye yarayan yarar.\n",
        "print(sys.version)"
      ],
      "metadata": {
        "colab": {
          "base_uri": "https://localhost:8080/"
        },
        "id": "1rgkLJXXp_tc",
        "outputId": "c66b6f90-ed29-4379-9a5d-70ef07d50ca8"
      },
      "execution_count": 2,
      "outputs": [
        {
          "output_type": "stream",
          "name": "stdout",
          "text": [
            "3.10.12 (main, Jul 29 2024, 16:56:48) [GCC 11.4.0]\n"
          ]
        }
      ]
    },
    {
      "cell_type": "code",
      "source": [
        "from google.colab import drive # google colab - drive bağlantısı\n",
        "drive.mount('/content/drive') # bütün drive izinleri kabul edilmelidir yoksa çalışmaz."
      ],
      "metadata": {
        "colab": {
          "base_uri": "https://localhost:8080/"
        },
        "id": "nrz-R-KBqJ71",
        "outputId": "90db8755-c03c-48f2-f3c1-7146811983be"
      },
      "execution_count": 3,
      "outputs": [
        {
          "output_type": "stream",
          "name": "stdout",
          "text": [
            "Mounted at /content/drive\n"
          ]
        }
      ]
    },
    {
      "cell_type": "code",
      "source": [
        "import os\n",
        "os.chdir('/content/drive/My Drive/veriyapilari_istka')\n",
        "!pwd #bize kodun çıktısını dosya yolu olarak veren kod blogudur."
      ],
      "metadata": {
        "colab": {
          "base_uri": "https://localhost:8080/"
        },
        "id": "UQz2F_9uqKvU",
        "outputId": "14b06e71-7160-4f30-8052-fe459842e831"
      },
      "execution_count": 4,
      "outputs": [
        {
          "output_type": "stream",
          "name": "stdout",
          "text": [
            "/content/drive/My Drive/veriyapilari_istka\n"
          ]
        }
      ]
    },
    {
      "cell_type": "markdown",
      "source": [
        "VERİ YAPILARI ve TİPLERİ\n",
        "\n",
        "Veri Yapıları nedir? Veri yapıları, verilerin organize edilmesinde ve saklanırken türlerini tanımlar. Bu yapılar, verilerin etkin bir şekilde kullanımı - işlenmesini sağlamaktadır.\n",
        "\n",
        "Buradaki ilk kural değişken isimlendirme kurallarının kavranmasıdır.\n",
        "\n",
        "1)Değişken ismi arasında boşluk bilgisi kesinlikle olmamalıdır.\n",
        "2)Özel karakter kesinlikle eklenmemelidir.\n",
        "3)Değişkenlerde Türkçe Karakter kullanılmamalıdır\n",
        "4)Döngü ve Kontrol yapılarının isimleri değişken olamaz (if, for, while)\n",
        "5)Büyük ve Küçük harf duyarlılığı unutulmamalıdır.\n",
        "Veri Tipleri\n",
        "\n",
        "1.Integer - Tamsayı tanımlaması\n",
        "2.Float - Ondalıklı Sayı tanımlaması\n",
        "3.String - Metinsel içerik tanımlaması\n",
        "4.Boolean (True - False) - Doğru / Yanlış tanımlaması\n",
        "5.List - Liste tanımlaması\n",
        "6.Tuple - Demet tanımlaması\n",
        "7.Dictionary - Sözlük tanımlaması\n",
        "8.Set - Küme tanımlaması\n",
        "\n",
        "Python Programlama Dili Temelinde Kullanılan Fonksiyonlar\n",
        "\n",
        "1)len() -> bir değişkenin uzunluğunu ele almaktadır.\n",
        "2)type() -> bir değişkenin veri tipini vermektedir.\n",
        "3)print() -> belirtilen değeri veya değerleri ekrana yazdırır.\n",
        "4)capitalized() -> bir dizeyi alır ve sadece ilk harfini büyük harf yapar, geri kalan harfleri küçük harf yapar.\n",
        "5)split() -> bir dizeyi belirli bir ayırıcıya göre böler ve her bir parçayı liste elemanı olarak döner.\n",
        "6)upper() -> bir dizedeki tüm harfleri büyük harfe çevirir.\n",
        "7)input() -> kullanıcıdan veri almak için kullanılmaktadır.\n",
        "8)float() -> bir değeri ondalıklı sayı veri tipine dönüştürmek için kullanılır.\n",
        "9)int() -> bir değeri tam sayı veri tipine dönüştürmek için kullanılır.\n",
        "10)abs() -> mutlak değer alma fonksiyonudur.\n",
        "\n",
        "Python Programlama Dilinde Kullanılan Temel Ktüphaneler\n",
        "\n",
        "Kütüphane terim olarak; Belirli bir işlevselliği gerçekleştirmek için önceden yazılmış kod bloklarının bir topluluğudur.\n",
        "\n",
        "Özellikler:\n",
        "\n",
        "1.Yeniden Kullanılabilirlik\n",
        "\n",
        "2.Modülerlik\n",
        "\n",
        "3.Kolaylık, Hız ve Esneklik\n",
        "\n",
        "4.Dökümantasyon:\n",
        "\n",
        "Python Programlama dilinde Kütüphaneler \"import\" ile yazılıma eklenmektedir. Temel Kütüphaneler:\n",
        "\n",
        "1)import os -> işletim sistemiyle etkilişimli kod yazımı için gerekli olan bir kütüphanedir. Asli görevi dizin işlemleridir.\n",
        "\n",
        "2)import random -> yazılımda rastgele bir sayı üretmebilmek için kullanılan bir kütüphanedir."
      ],
      "metadata": {
        "id": "r2CYgUxwIvIp"
      }
    },
    {
      "cell_type": "code",
      "source": [
        "# Geçerli değişken tanımlaması\n",
        "degisken_1 = 10\n",
        "Degisken2 = 20\n",
        "_degisken3 = 30"
      ],
      "metadata": {
        "id": "RVDHA_p1qUIt"
      },
      "execution_count": 5,
      "outputs": []
    },
    {
      "cell_type": "code",
      "source": [
        "# Geçersiz değişken tanımlaması\n",
        "1degisken = 40\n",
        "degisken-4 = 50"
      ],
      "metadata": {
        "colab": {
          "base_uri": "https://localhost:8080/",
          "height": 106
        },
        "id": "4hlTG_XUwLhy",
        "outputId": "1136b060-736f-46c1-b615-6a5412f31efe"
      },
      "execution_count": 6,
      "outputs": [
        {
          "output_type": "error",
          "ename": "SyntaxError",
          "evalue": "invalid decimal literal (<ipython-input-6-7cd3bbcf57d9>, line 2)",
          "traceback": [
            "\u001b[0;36m  File \u001b[0;32m\"<ipython-input-6-7cd3bbcf57d9>\"\u001b[0;36m, line \u001b[0;32m2\u001b[0m\n\u001b[0;31m    1degisken = 40\u001b[0m\n\u001b[0m    ^\u001b[0m\n\u001b[0;31mSyntaxError\u001b[0m\u001b[0;31m:\u001b[0m invalid decimal literal\n"
          ]
        }
      ]
    },
    {
      "cell_type": "markdown",
      "source": [
        "Değişkenin geçerli olması için;\n",
        "1) Türkçe karakter kullanılmaz.\n",
        "2) rakamlar karakterlerden  sonra gelir."
      ],
      "metadata": {
        "id": "2JoT5JQtwQSZ"
      }
    },
    {
      "cell_type": "code",
      "source": [
        "# Değişken Tanımlama İşlemi\n",
        "\n",
        "x = 5\n",
        "y = \"Merhaba Dünya\"\n",
        "\n",
        "print(x)\n",
        "print(y)\n"
      ],
      "metadata": {
        "colab": {
          "base_uri": "https://localhost:8080/"
        },
        "id": "3rGGiU1Mwq_7",
        "outputId": "bc09c486-7dc2-4eed-f2fb-9bb173385052"
      },
      "execution_count": 7,
      "outputs": [
        {
          "output_type": "stream",
          "name": "stdout",
          "text": [
            "5\n",
            "Merhaba Dünya\n"
          ]
        }
      ]
    },
    {
      "cell_type": "code",
      "source": [
        "\n",
        "# Integer - Tamsayı tanımlaması\n",
        "\n",
        "a = 10\n",
        "print(type(a))\n"
      ],
      "metadata": {
        "colab": {
          "base_uri": "https://localhost:8080/"
        },
        "id": "bIJfzot_ydtl",
        "outputId": "b4d50a3a-81cb-4de8-d28f-fbc1b81592d1"
      },
      "execution_count": 8,
      "outputs": [
        {
          "output_type": "stream",
          "name": "stdout",
          "text": [
            "<class 'int'>\n"
          ]
        }
      ]
    },
    {
      "cell_type": "code",
      "source": [
        "\n",
        "# Float - Ondalıklı Sayı tanımlaması\n",
        "\n",
        "b = 20.5\n",
        "print(type(b))"
      ],
      "metadata": {
        "colab": {
          "base_uri": "https://localhost:8080/"
        },
        "id": "qSfaPeab6eCt",
        "outputId": "0eff0144-7b45-41e4-d872-5d7423d9e0e0"
      },
      "execution_count": null,
      "outputs": [
        {
          "output_type": "stream",
          "name": "stdout",
          "text": [
            "<class 'float'>\n"
          ]
        }
      ]
    },
    {
      "cell_type": "code",
      "source": [
        "\n",
        "# int'ten float'a çevrimin gerçekleştirilmesi\n",
        "x = 10\n",
        "y = float(x)\n",
        "print(y, type(y))\n"
      ],
      "metadata": {
        "colab": {
          "base_uri": "https://localhost:8080/"
        },
        "id": "97rgyafm60ts",
        "outputId": "c19f8e8a-0792-46fb-f6bd-458b5111933d"
      },
      "execution_count": null,
      "outputs": [
        {
          "output_type": "stream",
          "name": "stdout",
          "text": [
            "10.0 <class 'float'>\n"
          ]
        }
      ]
    },
    {
      "cell_type": "code",
      "source": [
        "# float'tan int'e çevrimin gerçekleştirilmesi\n",
        "a = 12.34\n",
        "b = int(a)\n",
        "print(b, type(b))"
      ],
      "metadata": {
        "colab": {
          "base_uri": "https://localhost:8080/"
        },
        "id": "IKZHRj2O6zf1",
        "outputId": "ac6cc8ea-c05c-4017-8482-731787ad86ea"
      },
      "execution_count": null,
      "outputs": [
        {
          "output_type": "stream",
          "name": "stdout",
          "text": [
            "12 <class 'int'>\n"
          ]
        }
      ]
    },
    {
      "cell_type": "code",
      "source": [
        "# String - Metinsel içerik tanımlaması\n",
        "\n",
        "c = \"Python Programlama\"\n",
        "print(c)\n",
        "print(type(c))"
      ],
      "metadata": {
        "colab": {
          "base_uri": "https://localhost:8080/"
        },
        "id": "crnkQwU87rK9",
        "outputId": "4b475caa-d959-46d1-9653-ba89b3fc4981"
      },
      "execution_count": null,
      "outputs": [
        {
          "output_type": "stream",
          "name": "stdout",
          "text": [
            "Python Programlama\n",
            "<class 'str'>\n"
          ]
        }
      ]
    },
    {
      "cell_type": "code",
      "source": [
        "# Boolean (True - False) - Doğru / Yanlış tanımlaması\n",
        "\n",
        "d = True\n",
        "e = False\n",
        "print(d)\n",
        "print(type(e))"
      ],
      "metadata": {
        "colab": {
          "base_uri": "https://localhost:8080/"
        },
        "id": "2mpxLys77sn3",
        "outputId": "4f69c509-f530-49bb-f286-f243769382bc"
      },
      "execution_count": null,
      "outputs": [
        {
          "output_type": "stream",
          "name": "stdout",
          "text": [
            "True\n",
            "<class 'bool'>\n"
          ]
        }
      ]
    },
    {
      "cell_type": "code",
      "source": [
        "# List - Liste tanımlaması\n",
        "\n",
        "my_list = [1, 2, 3, 4, 5]\n",
        "print(type(my_list))\n",
        "print(my_list)"
      ],
      "metadata": {
        "colab": {
          "base_uri": "https://localhost:8080/"
        },
        "id": "HU_xqS7b9_Rn",
        "outputId": "9db028a6-ebdb-430a-a118-71e198d59841"
      },
      "execution_count": null,
      "outputs": [
        {
          "output_type": "stream",
          "name": "stdout",
          "text": [
            "<class 'list'>\n",
            "[1, 2, 3, 4, 5]\n"
          ]
        }
      ]
    },
    {
      "cell_type": "code",
      "source": [
        "# Tuple - Demet tanımlaması\n",
        "\n",
        "my_tuple = (1, 2, 3, 4, 5)\n",
        "print(type(my_tuple))\n",
        "print(my_tuple)"
      ],
      "metadata": {
        "colab": {
          "base_uri": "https://localhost:8080/"
        },
        "id": "RxO3B024-5LH",
        "outputId": "d1ef8232-a358-4d95-969b-8715f8c78c31"
      },
      "execution_count": null,
      "outputs": [
        {
          "output_type": "stream",
          "name": "stdout",
          "text": [
            "<class 'tuple'>\n",
            "(1, 2, 3, 4, 5)\n"
          ]
        }
      ]
    },
    {
      "cell_type": "markdown",
      "source": [
        "Dictionary - Sözlük Nedir?\n",
        "\n",
        "1)Sözlükler, anahtar-değer (key-value) çiftlerini depolayan veri yapılarıdır.\n",
        "2)Her anahtar benzersizdir ve bir değere karşılık gelir.\n",
        "3)Sözlükler sırasızdır ve değiştirilebilir.\n",
        "Sözlük Metotları\n",
        "\n",
        "1)keys(): Sözlüğün anahtarlarını döner.\n",
        "2)values(): Sözlüğün değerlerini döner.\n",
        "3)items(): Sözlüğün anahtar-değer çiftlerini döner."
      ],
      "metadata": {
        "id": "05trFjtuB3uX"
      }
    },
    {
      "cell_type": "code",
      "source": [
        "# Dictionary - Sözlük Örneği -> Öğrencilerin notlarını tutan bir sözlük\n",
        "notlar = {\n",
        "    \"Ali\": 85,\n",
        "    \"Veli\": 90,\n",
        "    \"Ayşe\": 78\n",
        "}\n",
        "\n",
        "notlar[\"Fatma\"] = 92 # Yeni öğrenci ekleme\n",
        "\n",
        "notlar[\"Ali\"] = 88 # Bir öğrencinin notunu güncelleme\n",
        "\n",
        "print(notlar)"
      ],
      "metadata": {
        "colab": {
          "base_uri": "https://localhost:8080/"
        },
        "id": "CGTHj69z_IFW",
        "outputId": "4d1100d0-716e-4fb5-f8fc-4dfb7c0d222e"
      },
      "execution_count": null,
      "outputs": [
        {
          "output_type": "stream",
          "name": "stdout",
          "text": [
            "{'Ali': 88, 'Veli': 90, 'Ayşe': 78, 'Fatma': 92}\n"
          ]
        }
      ]
    },
    {
      "cell_type": "markdown",
      "source": [
        "Süslü parantezi satır başına alıp başlarsanız kodunuz hata verir."
      ],
      "metadata": {
        "id": "saxLY1ZJAlDf"
      }
    },
    {
      "cell_type": "code",
      "source": [
        "print(notlar.keys())    # dict_keys(['isim', 'yas', 'meslek'])\n",
        "print(notlar.values())  # dict_values(['Ahmet', 26, 'Mühendis'])\n",
        "print(notlar.items())   # dict_items([('isim', 'Ahmet'), ('yas', 26), ('meslek', 'Mühendis')"
      ],
      "metadata": {
        "colab": {
          "base_uri": "https://localhost:8080/"
        },
        "id": "hnfRl-T-A_4A",
        "outputId": "e3e5017e-87ef-46c4-af5f-fc7d3d818048"
      },
      "execution_count": null,
      "outputs": [
        {
          "output_type": "stream",
          "name": "stdout",
          "text": [
            "dict_keys(['Ali', 'Veli', 'Ayşe', 'Fatma'])\n",
            "dict_values([88, 90, 78, 92])\n",
            "dict_items([('Ali', 88), ('Veli', 90), ('Ayşe', 78), ('Fatma', 92)])\n"
          ]
        }
      ]
    },
    {
      "cell_type": "markdown",
      "source": [
        "Set - Küme Nedir?\n",
        "\n",
        "1)Kümeler, benzersiz elemanlardan oluşan sırasız koleksiyonlardır.\n",
        "2)Kümeler değiştirilebilir ve tekrarlayan eleman içermez.\n",
        "Küme Metotları\n",
        "\n",
        "*add(): Küme içerisine eleman ekler.\n",
        "*remove(): Küme içerisinden eleman siler.\n",
        "*union(): İki kümenin birleşimini döner.\n",
        "*intersection(): İki kümenin kesişimini döner.\n",
        "*difference(): İki kümenin farkını döner."
      ],
      "metadata": {
        "id": "QMS73vINCcQA"
      }
    },
    {
      "cell_type": "code",
      "source": [
        "#Set - Küme Örneği -> Bir yazılım etkinliğine katılan kişilerin oluşturduğu kümeler\n",
        "kodyazanlar = {\"Ahmet\", \"Mehmet\", \"Ayşe\"}\n",
        "kodyazmayanlar = {\"Ayşe\", \"Fatma\", \"Veli\"}\n",
        "\n",
        "# Kafasına Göre Takılan Öğrenciler\n",
        "ortak = kodyazanlar.intersection(kodyazmayanlar)\n",
        "print(\"Kafasına Göre Takılan Öğrencilerin Listesi:\", ortak)\n",
        "\n",
        "# Etkinlikte Kod Çalışması Yapmayan Öğrencilerin Tespiti\n",
        "Kod_yazmayan = kodyazmayanlar.difference(kodyazanlar)\n",
        "print(\"Kod çalışması yapmayan öğrenci listesi:\", Kod_yazmayan)\n",
        "\n",
        "# Yazılım Eğitiminin Öğrenci İmza Listesi\n",
        "imza_listesi = kodyazanlar.union(kodyazmayanlar)\n",
        "print(\"Etkinlik katılımcıları:\", imza_listesi)"
      ],
      "metadata": {
        "colab": {
          "base_uri": "https://localhost:8080/"
        },
        "id": "tk9IeoGDCij3",
        "outputId": "eb55d9e4-b702-40ce-8b0e-6811966bb013"
      },
      "execution_count": 9,
      "outputs": [
        {
          "output_type": "stream",
          "name": "stdout",
          "text": [
            "Kafasına Göre Takılan Öğrencilerin Listesi: {'Ayşe'}\n",
            "Kod çalışması yapmayan öğrenci listesi: {'Veli', 'Fatma'}\n",
            "Etkinlik katılımcıları: {'Mehmet', 'Ahmet', 'Veli', 'Ayşe', 'Fatma'}\n"
          ]
        }
      ]
    },
    {
      "cell_type": "code",
      "source": [
        "giris = input(\"Bir sayı girin: \")\n",
        "try:\n",
        "    num = float(giris)\n",
        "    print(f\"Girilen sayı: {num}, tipi: {type(num)},\", abs(num))\n",
        "except ValueError:\n",
        "    print(\"Geçersiz veri girdiniz.\")"
      ],
      "metadata": {
        "colab": {
          "base_uri": "https://localhost:8080/"
        },
        "id": "isySayEMEASh",
        "outputId": "baa42ed2-daae-45ed-af13-470588801d8d"
      },
      "execution_count": null,
      "outputs": [
        {
          "output_type": "stream",
          "name": "stdout",
          "text": [
            "Bir sayı girin: 7\n",
            "Girilen sayı: 7.0, tipi: <class 'float'>, 7.0\n"
          ]
        }
      ]
    },
    {
      "cell_type": "code",
      "source": [
        " # 0 ile 1 arasında rastgele bir ondalık sayı üretir\n",
        "\n",
        "import random\n",
        "\n",
        "rastgele_float = random.random()\n",
        "print(\"Rastgele Deger:\", rastgele_float)"
      ],
      "metadata": {
        "colab": {
          "base_uri": "https://localhost:8080/"
        },
        "id": "TzKXoiP1FlOy",
        "outputId": "e90fa593-8a2f-4185-81a3-f005caa527e9"
      },
      "execution_count": 11,
      "outputs": [
        {
          "output_type": "stream",
          "name": "stdout",
          "text": [
            "Rastgele Deger: 0.4140208364554486\n"
          ]
        }
      ]
    },
    {
      "cell_type": "code",
      "source": [
        "# 1 ile 10 arasında (her iki sınır dahil) rastgele bir tam sayı üretir\n",
        "\n",
        "import random\n",
        "\n",
        "rastgele_sayi = random.randint(1, 10)\n",
        "print(\"Rastgele Deger:\", rastgele_sayi)"
      ],
      "metadata": {
        "colab": {
          "base_uri": "https://localhost:8080/"
        },
        "id": "ulq5hM3-J2uZ",
        "outputId": "a5974fad-6e93-43e7-d5b4-744a99979d03"
      },
      "execution_count": 10,
      "outputs": [
        {
          "output_type": "stream",
          "name": "stdout",
          "text": [
            "Rastgele Deger: 7\n"
          ]
        }
      ]
    }
  ]
}